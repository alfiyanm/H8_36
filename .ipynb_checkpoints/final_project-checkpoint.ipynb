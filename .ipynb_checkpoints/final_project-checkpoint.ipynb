{
 "cells": [
  {
   "cell_type": "code",
   "execution_count": 59,
   "metadata": {},
   "outputs": [],
   "source": [
    "import numpy as np\n",
    "import pandas as pd"
   ]
  },
  {
   "cell_type": "markdown",
   "metadata": {},
   "source": [
    "meload dataset sepak bola bernama results"
   ]
  },
  {
   "cell_type": "code",
   "execution_count": 60,
   "metadata": {},
   "outputs": [],
   "source": [
    "fb = pd.read_csv('datasets/results.csv')"
   ]
  },
  {
   "cell_type": "code",
   "execution_count": 61,
   "metadata": {},
   "outputs": [
    {
     "data": {
      "text/html": [
       "<div>\n",
       "<style scoped>\n",
       "    .dataframe tbody tr th:only-of-type {\n",
       "        vertical-align: middle;\n",
       "    }\n",
       "\n",
       "    .dataframe tbody tr th {\n",
       "        vertical-align: top;\n",
       "    }\n",
       "\n",
       "    .dataframe thead th {\n",
       "        text-align: right;\n",
       "    }\n",
       "</style>\n",
       "<table border=\"1\" class=\"dataframe\">\n",
       "  <thead>\n",
       "    <tr style=\"text-align: right;\">\n",
       "      <th></th>\n",
       "      <th>date</th>\n",
       "      <th>home_team</th>\n",
       "      <th>away_team</th>\n",
       "      <th>home_score</th>\n",
       "      <th>away_score</th>\n",
       "      <th>tournament</th>\n",
       "      <th>city</th>\n",
       "      <th>country</th>\n",
       "      <th>neutral</th>\n",
       "    </tr>\n",
       "  </thead>\n",
       "  <tbody>\n",
       "    <tr>\n",
       "      <th>0</th>\n",
       "      <td>1872-11-30</td>\n",
       "      <td>Scotland</td>\n",
       "      <td>England</td>\n",
       "      <td>0</td>\n",
       "      <td>0</td>\n",
       "      <td>Friendly</td>\n",
       "      <td>Glasgow</td>\n",
       "      <td>Scotland</td>\n",
       "      <td>False</td>\n",
       "    </tr>\n",
       "    <tr>\n",
       "      <th>1</th>\n",
       "      <td>1873-03-08</td>\n",
       "      <td>England</td>\n",
       "      <td>Scotland</td>\n",
       "      <td>4</td>\n",
       "      <td>2</td>\n",
       "      <td>Friendly</td>\n",
       "      <td>London</td>\n",
       "      <td>England</td>\n",
       "      <td>False</td>\n",
       "    </tr>\n",
       "    <tr>\n",
       "      <th>2</th>\n",
       "      <td>1874-03-07</td>\n",
       "      <td>Scotland</td>\n",
       "      <td>England</td>\n",
       "      <td>2</td>\n",
       "      <td>1</td>\n",
       "      <td>Friendly</td>\n",
       "      <td>Glasgow</td>\n",
       "      <td>Scotland</td>\n",
       "      <td>False</td>\n",
       "    </tr>\n",
       "    <tr>\n",
       "      <th>3</th>\n",
       "      <td>1875-03-06</td>\n",
       "      <td>England</td>\n",
       "      <td>Scotland</td>\n",
       "      <td>2</td>\n",
       "      <td>2</td>\n",
       "      <td>Friendly</td>\n",
       "      <td>London</td>\n",
       "      <td>England</td>\n",
       "      <td>False</td>\n",
       "    </tr>\n",
       "    <tr>\n",
       "      <th>4</th>\n",
       "      <td>1876-03-04</td>\n",
       "      <td>Scotland</td>\n",
       "      <td>England</td>\n",
       "      <td>3</td>\n",
       "      <td>0</td>\n",
       "      <td>Friendly</td>\n",
       "      <td>Glasgow</td>\n",
       "      <td>Scotland</td>\n",
       "      <td>False</td>\n",
       "    </tr>\n",
       "  </tbody>\n",
       "</table>\n",
       "</div>"
      ],
      "text/plain": [
       "         date home_team away_team  home_score  away_score tournament     city  \\\n",
       "0  1872-11-30  Scotland   England           0           0   Friendly  Glasgow   \n",
       "1  1873-03-08   England  Scotland           4           2   Friendly   London   \n",
       "2  1874-03-07  Scotland   England           2           1   Friendly  Glasgow   \n",
       "3  1875-03-06   England  Scotland           2           2   Friendly   London   \n",
       "4  1876-03-04  Scotland   England           3           0   Friendly  Glasgow   \n",
       "\n",
       "    country  neutral  \n",
       "0  Scotland    False  \n",
       "1   England    False  \n",
       "2  Scotland    False  \n",
       "3   England    False  \n",
       "4  Scotland    False  "
      ]
     },
     "execution_count": 61,
     "metadata": {},
     "output_type": "execute_result"
    }
   ],
   "source": [
    "fb.head()"
   ]
  },
  {
   "cell_type": "code",
   "execution_count": 62,
   "metadata": {},
   "outputs": [
    {
     "data": {
      "text/html": [
       "<div>\n",
       "<style scoped>\n",
       "    .dataframe tbody tr th:only-of-type {\n",
       "        vertical-align: middle;\n",
       "    }\n",
       "\n",
       "    .dataframe tbody tr th {\n",
       "        vertical-align: top;\n",
       "    }\n",
       "\n",
       "    .dataframe thead th {\n",
       "        text-align: right;\n",
       "    }\n",
       "</style>\n",
       "<table border=\"1\" class=\"dataframe\">\n",
       "  <thead>\n",
       "    <tr style=\"text-align: right;\">\n",
       "      <th></th>\n",
       "      <th>home_score</th>\n",
       "      <th>away_score</th>\n",
       "    </tr>\n",
       "  </thead>\n",
       "  <tbody>\n",
       "    <tr>\n",
       "      <th>count</th>\n",
       "      <td>41586.000000</td>\n",
       "      <td>41586.000000</td>\n",
       "    </tr>\n",
       "    <tr>\n",
       "      <th>mean</th>\n",
       "      <td>1.745756</td>\n",
       "      <td>1.187587</td>\n",
       "    </tr>\n",
       "    <tr>\n",
       "      <th>std</th>\n",
       "      <td>1.753780</td>\n",
       "      <td>1.405323</td>\n",
       "    </tr>\n",
       "    <tr>\n",
       "      <th>min</th>\n",
       "      <td>0.000000</td>\n",
       "      <td>0.000000</td>\n",
       "    </tr>\n",
       "    <tr>\n",
       "      <th>25%</th>\n",
       "      <td>1.000000</td>\n",
       "      <td>0.000000</td>\n",
       "    </tr>\n",
       "    <tr>\n",
       "      <th>50%</th>\n",
       "      <td>1.000000</td>\n",
       "      <td>1.000000</td>\n",
       "    </tr>\n",
       "    <tr>\n",
       "      <th>75%</th>\n",
       "      <td>2.000000</td>\n",
       "      <td>2.000000</td>\n",
       "    </tr>\n",
       "    <tr>\n",
       "      <th>max</th>\n",
       "      <td>31.000000</td>\n",
       "      <td>21.000000</td>\n",
       "    </tr>\n",
       "  </tbody>\n",
       "</table>\n",
       "</div>"
      ],
      "text/plain": [
       "         home_score    away_score\n",
       "count  41586.000000  41586.000000\n",
       "mean       1.745756      1.187587\n",
       "std        1.753780      1.405323\n",
       "min        0.000000      0.000000\n",
       "25%        1.000000      0.000000\n",
       "50%        1.000000      1.000000\n",
       "75%        2.000000      2.000000\n",
       "max       31.000000     21.000000"
      ]
     },
     "execution_count": 62,
     "metadata": {},
     "output_type": "execute_result"
    }
   ],
   "source": [
    "fb.describe()"
   ]
  },
  {
   "cell_type": "markdown",
   "metadata": {},
   "source": [
    "mengecek apakah ada missing value dan informasi lainnya"
   ]
  },
  {
   "cell_type": "code",
   "execution_count": 63,
   "metadata": {},
   "outputs": [
    {
     "name": "stdout",
     "output_type": "stream",
     "text": [
      "<class 'pandas.core.frame.DataFrame'>\n",
      "RangeIndex: 41586 entries, 0 to 41585\n",
      "Data columns (total 9 columns):\n",
      " #   Column      Non-Null Count  Dtype \n",
      "---  ------      --------------  ----- \n",
      " 0   date        41586 non-null  object\n",
      " 1   home_team   41586 non-null  object\n",
      " 2   away_team   41586 non-null  object\n",
      " 3   home_score  41586 non-null  int64 \n",
      " 4   away_score  41586 non-null  int64 \n",
      " 5   tournament  41586 non-null  object\n",
      " 6   city        41586 non-null  object\n",
      " 7   country     41586 non-null  object\n",
      " 8   neutral     41586 non-null  bool  \n",
      "dtypes: bool(1), int64(2), object(6)\n",
      "memory usage: 2.6+ MB\n"
     ]
    }
   ],
   "source": [
    "fb.info()"
   ]
  },
  {
   "cell_type": "markdown",
   "metadata": {},
   "source": [
    "melihat seberapa banyak jumlah turnamen "
   ]
  },
  {
   "cell_type": "code",
   "execution_count": 64,
   "metadata": {},
   "outputs": [
    {
     "data": {
      "text/plain": [
       "112"
      ]
     },
     "execution_count": 64,
     "metadata": {},
     "output_type": "execute_result"
    }
   ],
   "source": [
    "fb[\"tournament\"].nunique()"
   ]
  },
  {
   "cell_type": "code",
   "execution_count": 65,
   "metadata": {},
   "outputs": [],
   "source": [
    "pd.set_option('display.max_rows', fb.shape[0]+1)"
   ]
  },
  {
   "cell_type": "code",
   "execution_count": 66,
   "metadata": {},
   "outputs": [
    {
     "data": {
      "text/plain": [
       "Friendly                                      17029\n",
       "FIFA World Cup qualification                   7236\n",
       "UEFA Euro qualification                        2582\n",
       "African Cup of Nations qualification           1672\n",
       "FIFA World Cup                                  900\n",
       "Copa América                                    813\n",
       "AFC Asian Cup qualification                     724\n",
       "African Cup of Nations                          690\n",
       "CECAFA Cup                                      620\n",
       "CFU Caribbean Cup qualification                 606\n",
       "British Championship                            505\n",
       "Merdeka Tournament                              503\n",
       "Gulf Cup                                        380\n",
       "AFC Asian Cup                                   370\n",
       "Island Games                                    350\n",
       "Gold Cup                                        327\n",
       "AFF Championship                                293\n",
       "COSAFA Cup                                      292\n",
       "UEFA Euro                                       286\n",
       "Nordic Championship                             283\n",
       "African Nations Championship                    264\n",
       "CFU Caribbean Cup                               251\n",
       "Amílcar Cabral Cup                              235\n",
       "King's Cup                                      234\n",
       "South Pacific Games                             205\n",
       "UNCAF Cup                                       164\n",
       "Korea Cup                                       159\n",
       "UEFA Nations League                             142\n",
       "Confederations Cup                              140\n",
       "SAFF Cup                                        136\n",
       "International Cup                               127\n",
       "CCCF Championship                               123\n",
       "EAFF Championship                               122\n",
       "UAFA Cup                                        122\n",
       "CONCACAF Nations League                         102\n",
       "Oceania Nations Cup                             101\n",
       "Windward Islands Tournament                     101\n",
       "CONIFA World Football Cup                       101\n",
       "AFC Challenge Cup                               100\n",
       "WAFF Championship                                97\n",
       "AFC Challenge Cup qualification                  92\n",
       "Nehru Cup                                        89\n",
       "Baltic Cup                                       87\n",
       "Balkan Cup                                       87\n",
       "Indonesia Tournament                             75\n",
       "Cyprus International Tournament                  70\n",
       "Oceania Nations Cup qualification                70\n",
       "Kirin Cup                                        69\n",
       "CONCACAF Nations League qualification            68\n",
       "UDEAC Cup                                        65\n",
       "African Nations Championship qualification       64\n",
       "Vietnam Independence Cup                         60\n",
       "Viva World Cup                                   56\n",
       "Gold Cup qualification                           56\n",
       "West African Cup                                 54\n",
       "Malta International Tournament                   53\n",
       "Pacific Games                                    51\n",
       "CONIFA European Football Cup                     49\n",
       "CONCACAF Championship                            49\n",
       "Pan American Championship                        39\n",
       "Brazil Independence Cup                          37\n",
       "USA Cup                                          37\n",
       "United Arab Emirates Friendship Tournament       31\n",
       "Copa Chevallier Boutell                          29\n",
       "Dynasty Cup                                      29\n",
       "Copa Lipton                                      28\n",
       "Copa Newton                                      26\n",
       "Merlion Cup                                      25\n",
       "Lunar New Year Cup                               25\n",
       "Copa Roca                                        23\n",
       "Copa Paz del Chaco                               23\n",
       "Prime Minister's Cup                             22\n",
       "CONCACAF Championship qualification              21\n",
       "ABCS Tournament                                  20\n",
       "Inter Games Football Tournament                  19\n",
       "Copa del Pacífico                                19\n",
       "Copa Rio Branco                                  18\n",
       "Simba Tournament                                 17\n",
       "Copa Oswaldo Cruz                                16\n",
       "Copa Carlos Dittborn                             16\n",
       "ELF Cup                                          16\n",
       "Copa Juan Pinto Durán                            16\n",
       "Copa Premio Honor Uruguayo                       15\n",
       "Dunhill Cup                                      15\n",
       "UNIFFAC Cup                                      15\n",
       "Millennium Cup                                   15\n",
       "GaNEFo                                           14\n",
       "Intercontinental Cup                             14\n",
       "Nile Basin Tournament                            14\n",
       "Jordan International Tournament                  13\n",
       "Copa Artigas                                     13\n",
       "Copa Premio Honor Argentino                      12\n",
       "King Hassan II Tournament                        12\n",
       "Rous Cup                                         11\n",
       "Atlantic Cup                                     11\n",
       "SKN Football Festival                            11\n",
       "Copa Bernardo O'Higgins                          10\n",
       "Tournoi de France                                10\n",
       "FIFI Wild Cup                                    10\n",
       "VFF Cup                                           9\n",
       "UAFA Cup qualification                            9\n",
       "NAFU Championship                                 7\n",
       "Mundialito                                        7\n",
       "Nations Cup                                       6\n",
       "Copa Félix Bogado                                 6\n",
       "Copa Ramón Castilla                               6\n",
       "OSN Cup                                           4\n",
       "World Unity Cup                                   4\n",
       "Dragon Cup                                        4\n",
       "Atlantic Heritage Cup                             2\n",
       "Copa América qualification                        2\n",
       "AFF Championship qualification                    2\n",
       "Name: tournament, dtype: int64"
      ]
     },
     "execution_count": 66,
     "metadata": {},
     "output_type": "execute_result"
    }
   ],
   "source": [
    "fb[\"tournament\"].value_counts()"
   ]
  },
  {
   "cell_type": "code",
   "execution_count": 67,
   "metadata": {},
   "outputs": [],
   "source": [
    "pd.set_option('display.max_rows', 100)"
   ]
  },
  {
   "cell_type": "markdown",
   "metadata": {},
   "source": [
    "melihat berapa banyak negara"
   ]
  },
  {
   "cell_type": "code",
   "execution_count": 72,
   "metadata": {},
   "outputs": [
    {
     "data": {
      "text/plain": [
       "266"
      ]
     },
     "execution_count": 72,
     "metadata": {},
     "output_type": "execute_result"
    }
   ],
   "source": [
    "fb[\"country\"].nunique()"
   ]
  },
  {
   "cell_type": "code",
   "execution_count": 70,
   "metadata": {},
   "outputs": [
    {
     "data": {
      "text/plain": [
       "United States          1159\n",
       "France                  806\n",
       "England                 696\n",
       "Malaysia                652\n",
       "Sweden                  640\n",
       "                       ... \n",
       "Micronesia                1\n",
       "Bohemia and Moravia       1\n",
       "Mali Federation           1\n",
       "Portuguese Guinea         1\n",
       "Belgian Congo             1\n",
       "Name: country, Length: 266, dtype: int64"
      ]
     },
     "execution_count": 70,
     "metadata": {},
     "output_type": "execute_result"
    }
   ],
   "source": [
    "fb[\"country\"].value_counts()"
   ]
  }
 ],
 "metadata": {
  "kernelspec": {
   "display_name": "Python 3",
   "language": "python",
   "name": "python3"
  },
  "language_info": {
   "codemirror_mode": {
    "name": "ipython",
    "version": 3
   },
   "file_extension": ".py",
   "mimetype": "text/x-python",
   "name": "python",
   "nbconvert_exporter": "python",
   "pygments_lexer": "ipython3",
   "version": "3.7.6"
  }
 },
 "nbformat": 4,
 "nbformat_minor": 4
}
