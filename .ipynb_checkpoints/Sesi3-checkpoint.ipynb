{
 "cells": [
  {
   "cell_type": "markdown",
   "metadata": {},
   "source": [
    "# Hacktiv8 Python for Data Science - Sesi 2\n",
    "\n",
    "Sesi 2:\n",
    "\n",
    "- Conditions\n",
    "- Control Flow\n",
    "- Looping"
   ]
  },
  {
   "cell_type": "markdown",
   "metadata": {},
   "source": [
    "# Function"
   ]
  },
  {
   "cell_type": "code",
   "execution_count": 78,
   "metadata": {},
   "outputs": [],
   "source": [
    "# Defining Function\n",
    "def my_function():\n",
    "    \"This function print a String\"\n",
    "    print(\"Hello from a function\")"
   ]
  },
  {
   "cell_type": "code",
   "execution_count": 79,
   "metadata": {},
   "outputs": [
    {
     "name": "stdout",
     "output_type": "stream",
     "text": [
      "Hello from a function\n"
     ]
    }
   ],
   "source": [
    "# Calling a Function\n",
    "my_function()"
   ]
  },
  {
   "cell_type": "code",
   "execution_count": 80,
   "metadata": {},
   "outputs": [],
   "source": [
    "def print_me(nama):\n",
    "    \"This function pass input to params nama\"\n",
    "    print(nama)"
   ]
  },
  {
   "cell_type": "code",
   "execution_count": 81,
   "metadata": {},
   "outputs": [
    {
     "name": "stdout",
     "output_type": "stream",
     "text": [
      "Hacktiv8\n"
     ]
    }
   ],
   "source": [
    "print_me('Hacktiv8')"
   ]
  },
  {
   "cell_type": "code",
   "execution_count": 82,
   "metadata": {},
   "outputs": [
    {
     "name": "stdout",
     "output_type": "stream",
     "text": [
      "This is second sentence\n"
     ]
    }
   ],
   "source": [
    "print_me('This is second sentence')"
   ]
  },
  {
   "cell_type": "code",
   "execution_count": 83,
   "metadata": {},
   "outputs": [
    {
     "name": "stdout",
     "output_type": "stream",
     "text": [
      "Hello from a function\n"
     ]
    }
   ],
   "source": [
    "my_function()"
   ]
  },
  {
   "cell_type": "code",
   "execution_count": 84,
   "metadata": {},
   "outputs": [],
   "source": [
    "# Required Argument\n",
    "def print_me(nama):\n",
    "    \"This function pass input to params nama\"\n",
    "    print(nama)"
   ]
  },
  {
   "cell_type": "code",
   "execution_count": 85,
   "metadata": {},
   "outputs": [
    {
     "ename": "TypeError",
     "evalue": "print_me() missing 1 required positional argument: 'nama'",
     "output_type": "error",
     "traceback": [
      "\u001b[1;31m---------------------------------------------------------------------------\u001b[0m",
      "\u001b[1;31mTypeError\u001b[0m                                 Traceback (most recent call last)",
      "\u001b[1;32m<ipython-input-85-adefbc59946c>\u001b[0m in \u001b[0;36m<module>\u001b[1;34m\u001b[0m\n\u001b[1;32m----> 1\u001b[1;33m \u001b[0mprint_me\u001b[0m\u001b[1;33m(\u001b[0m\u001b[1;33m)\u001b[0m\u001b[1;33m\u001b[0m\u001b[1;33m\u001b[0m\u001b[0m\n\u001b[0m",
      "\u001b[1;31mTypeError\u001b[0m: print_me() missing 1 required positional argument: 'nama'"
     ]
    }
   ],
   "source": [
    "print_me()"
   ]
  },
  {
   "cell_type": "code",
   "execution_count": 59,
   "metadata": {},
   "outputs": [
    {
     "name": "stdout",
     "output_type": "stream",
     "text": [
      "Hacktiv8\n"
     ]
    }
   ],
   "source": [
    "print_me(nama='Hacktiv8')"
   ]
  },
  {
   "cell_type": "code",
   "execution_count": 60,
   "metadata": {},
   "outputs": [],
   "source": [
    "# Keyword Argument\n",
    "def printinfo(nama, umur):\n",
    "    \"This prints a passed info into this function\"\n",
    "    print('Nama: ', nama)\n",
    "    print('Umur: ', umur)"
   ]
  },
  {
   "cell_type": "code",
   "execution_count": 61,
   "metadata": {},
   "outputs": [
    {
     "name": "stdout",
     "output_type": "stream",
     "text": [
      "Nama:  Hacktiv8\n",
      "Umur:  20\n"
     ]
    }
   ],
   "source": [
    "printinfo('Hacktiv8', 20)"
   ]
  },
  {
   "cell_type": "code",
   "execution_count": 62,
   "metadata": {},
   "outputs": [
    {
     "name": "stdout",
     "output_type": "stream",
     "text": [
      "Nama:  Hacktiv8\n",
      "Umur:  18\n"
     ]
    }
   ],
   "source": [
    "printinfo(umur=18, nama='Hacktiv8')"
   ]
  },
  {
   "cell_type": "code",
   "execution_count": 63,
   "metadata": {},
   "outputs": [],
   "source": [
    "# Default Argument\n",
    "def printinfo(nama, umur=20):\n",
    "    \"This prints a passed info into this function\"\n",
    "    print('Nama: ', nama)\n",
    "    print('Umur: ', umur)"
   ]
  },
  {
   "cell_type": "code",
   "execution_count": 64,
   "metadata": {},
   "outputs": [
    {
     "name": "stdout",
     "output_type": "stream",
     "text": [
      "Nama:  Hacktiv8\n",
      "Umur:  18\n"
     ]
    }
   ],
   "source": [
    "printinfo(umur=18, nama='Hacktiv8')"
   ]
  },
  {
   "cell_type": "code",
   "execution_count": 65,
   "metadata": {},
   "outputs": [
    {
     "name": "stdout",
     "output_type": "stream",
     "text": [
      "Nama:  Hacktiv8\n",
      "Umur:  20\n"
     ]
    }
   ],
   "source": [
    "printinfo('Hacktiv8')"
   ]
  },
  {
   "cell_type": "code",
   "execution_count": 66,
   "metadata": {},
   "outputs": [
    {
     "name": "stdout",
     "output_type": "stream",
     "text": [
      "Nama:  Hacktiv8\n",
      "Umur:  20\n"
     ]
    }
   ],
   "source": [
    "printinfo(nama='Hacktiv8')"
   ]
  },
  {
   "cell_type": "code",
   "execution_count": 67,
   "metadata": {},
   "outputs": [
    {
     "name": "stdout",
     "output_type": "stream",
     "text": [
      "Nama:  Hacktiv8\n",
      "Umur:  38\n"
     ]
    }
   ],
   "source": [
    "printinfo('Hacktiv8', 38)"
   ]
  },
  {
   "cell_type": "code",
   "execution_count": 68,
   "metadata": {},
   "outputs": [],
   "source": [
    "# Variable-length Argument\n",
    "\n",
    "def printinfo(angkapertama, *angkaselanjutnya):\n",
    "    \"This prints a variable passed arguments\"\n",
    "    print(\"Outputnya adalah:\")\n",
    "    print(angkapertama)\n",
    "    for angka in angkaselanjutnya:\n",
    "        print(angka)"
   ]
  },
  {
   "cell_type": "code",
   "execution_count": 69,
   "metadata": {},
   "outputs": [
    {
     "name": "stdout",
     "output_type": "stream",
     "text": [
      "Outputnya adalah:\n",
      "10\n"
     ]
    }
   ],
   "source": [
    "printinfo(10)"
   ]
  },
  {
   "cell_type": "code",
   "execution_count": null,
   "metadata": {},
   "outputs": [],
   "source": [
    "printinfo(10, 20, 30, 40)"
   ]
  },
  {
   "cell_type": "markdown",
   "metadata": {},
   "source": [
    "# Anonymous Function"
   ]
  },
  {
   "cell_type": "code",
   "execution_count": 12,
   "metadata": {},
   "outputs": [],
   "source": [
    "multiplication = lambda angka1, angka2: angka1 * angka2"
   ]
  },
  {
   "cell_type": "code",
   "execution_count": 13,
   "metadata": {},
   "outputs": [
    {
     "data": {
      "text/plain": [
       "200"
      ]
     },
     "execution_count": 13,
     "metadata": {},
     "output_type": "execute_result"
    }
   ],
   "source": [
    "multiplication(10, 20)"
   ]
  },
  {
   "cell_type": "code",
   "execution_count": 14,
   "metadata": {},
   "outputs": [
    {
     "name": "stdout",
     "output_type": "stream",
     "text": [
      "Hasil Perkalian:  10\n"
     ]
    }
   ],
   "source": [
    "print(\"Hasil Perkalian: \", multiplication(5, 2))"
   ]
  },
  {
   "cell_type": "markdown",
   "metadata": {},
   "source": [
    "# Return Statement"
   ]
  },
  {
   "cell_type": "code",
   "execution_count": 15,
   "metadata": {},
   "outputs": [],
   "source": [
    "def sum(angka1, angka2):\n",
    "    total = angka1 + angka2\n",
    "    total2 = total + 10\n",
    "    print('Inside Function: ', total)\n",
    "    return total2"
   ]
  },
  {
   "cell_type": "code",
   "execution_count": 16,
   "metadata": {},
   "outputs": [
    {
     "name": "stdout",
     "output_type": "stream",
     "text": [
      "Inside Function:  30\n",
      "Outside the Function:  40\n"
     ]
    }
   ],
   "source": [
    "total = sum(10, 20)\n",
    "print('Outside the Function: ', total)"
   ]
  },
  {
   "cell_type": "markdown",
   "metadata": {},
   "source": [
    "# Scope of Variable"
   ]
  },
  {
   "cell_type": "code",
   "execution_count": 17,
   "metadata": {},
   "outputs": [],
   "source": [
    "apel = 10 # Global Variable\n",
    "\n",
    "def jumlahApel():\n",
    "    apelKuning = 30 # Local Variable\n",
    "    totalApel = apel + apelKuning\n",
    "    print(\"Jumlah Apel adalah :\", totalApel)\n",
    "    \n",
    "def jumlahApelHijau():\n",
    "#     apelKuning = 40\n",
    "    apelHijau = 20 # Local Variable\n",
    "    totalApelHijau = apelHijau + apelKuning\n",
    "    print(\"Jumlah Apel Hijau: \", totalApelHijau)"
   ]
  },
  {
   "cell_type": "code",
   "execution_count": 18,
   "metadata": {},
   "outputs": [
    {
     "name": "stdout",
     "output_type": "stream",
     "text": [
      "Jumlah Apel adalah : 40\n"
     ]
    }
   ],
   "source": [
    "jumlahApel()"
   ]
  },
  {
   "cell_type": "code",
   "execution_count": 19,
   "metadata": {},
   "outputs": [
    {
     "ename": "NameError",
     "evalue": "name 'apelKuning' is not defined",
     "output_type": "error",
     "traceback": [
      "\u001b[1;31m---------------------------------------------------------------------------\u001b[0m",
      "\u001b[1;31mNameError\u001b[0m                                 Traceback (most recent call last)",
      "\u001b[1;32m<ipython-input-19-471b50b16367>\u001b[0m in \u001b[0;36m<module>\u001b[1;34m\u001b[0m\n\u001b[1;32m----> 1\u001b[1;33m \u001b[0mjumlahApelHijau\u001b[0m\u001b[1;33m(\u001b[0m\u001b[1;33m)\u001b[0m\u001b[1;33m\u001b[0m\u001b[1;33m\u001b[0m\u001b[0m\n\u001b[0m",
      "\u001b[1;32m<ipython-input-17-0cd0853013f9>\u001b[0m in \u001b[0;36mjumlahApelHijau\u001b[1;34m()\u001b[0m\n\u001b[0;32m      9\u001b[0m \u001b[1;31m#     apelKuning = 40\u001b[0m\u001b[1;33m\u001b[0m\u001b[1;33m\u001b[0m\u001b[1;33m\u001b[0m\u001b[0m\n\u001b[0;32m     10\u001b[0m     \u001b[0mapelHijau\u001b[0m \u001b[1;33m=\u001b[0m \u001b[1;36m20\u001b[0m \u001b[1;31m# Local Variable\u001b[0m\u001b[1;33m\u001b[0m\u001b[1;33m\u001b[0m\u001b[0m\n\u001b[1;32m---> 11\u001b[1;33m     \u001b[0mtotalApelHijau\u001b[0m \u001b[1;33m=\u001b[0m \u001b[0mapelHijau\u001b[0m \u001b[1;33m+\u001b[0m \u001b[0mapelKuning\u001b[0m\u001b[1;33m\u001b[0m\u001b[1;33m\u001b[0m\u001b[0m\n\u001b[0m\u001b[0;32m     12\u001b[0m     \u001b[0mprint\u001b[0m\u001b[1;33m(\u001b[0m\u001b[1;34m\"Jumlah Apel Hijau: \"\u001b[0m\u001b[1;33m,\u001b[0m \u001b[0mtotalApelHijau\u001b[0m\u001b[1;33m)\u001b[0m\u001b[1;33m\u001b[0m\u001b[1;33m\u001b[0m\u001b[0m\n",
      "\u001b[1;31mNameError\u001b[0m: name 'apelKuning' is not defined"
     ]
    }
   ],
   "source": [
    "jumlahApelHijau()"
   ]
  },
  {
   "cell_type": "markdown",
   "metadata": {},
   "source": [
    "# Module"
   ]
  },
  {
   "cell_type": "code",
   "execution_count": 20,
   "metadata": {},
   "outputs": [],
   "source": [
    "import mod"
   ]
  },
  {
   "cell_type": "code",
   "execution_count": 21,
   "metadata": {},
   "outputs": [
    {
     "data": {
      "text/plain": [
       "'Hactiv8 Python for Data Science Batch 36'"
      ]
     },
     "execution_count": 21,
     "metadata": {},
     "output_type": "execute_result"
    }
   ],
   "source": [
    "mod.s"
   ]
  },
  {
   "cell_type": "code",
   "execution_count": 22,
   "metadata": {},
   "outputs": [
    {
     "data": {
      "text/plain": [
       "[100, 200, 300]"
      ]
     },
     "execution_count": 22,
     "metadata": {},
     "output_type": "execute_result"
    }
   ],
   "source": [
    "mod.a"
   ]
  },
  {
   "cell_type": "code",
   "execution_count": 23,
   "metadata": {},
   "outputs": [],
   "source": [
    "from mod import s, printme"
   ]
  },
  {
   "cell_type": "code",
   "execution_count": 24,
   "metadata": {},
   "outputs": [
    {
     "data": {
      "text/plain": [
       "'Hactiv8 Python for Data Science Batch 36'"
      ]
     },
     "execution_count": 24,
     "metadata": {},
     "output_type": "execute_result"
    }
   ],
   "source": [
    "s"
   ]
  },
  {
   "cell_type": "code",
   "execution_count": 25,
   "metadata": {},
   "outputs": [
    {
     "name": "stdout",
     "output_type": "stream",
     "text": [
      "From a Function\n"
     ]
    }
   ],
   "source": [
    "printme()"
   ]
  },
  {
   "cell_type": "code",
   "execution_count": 26,
   "metadata": {},
   "outputs": [],
   "source": [
    "from mod import *"
   ]
  },
  {
   "cell_type": "code",
   "execution_count": 27,
   "metadata": {},
   "outputs": [],
   "source": [
    "from mod import s as stringNama"
   ]
  },
  {
   "cell_type": "code",
   "execution_count": 28,
   "metadata": {},
   "outputs": [
    {
     "data": {
      "text/plain": [
       "'Hactiv8 Python for Data Science Batch 36'"
      ]
     },
     "execution_count": 28,
     "metadata": {},
     "output_type": "execute_result"
    }
   ],
   "source": [
    "stringNama"
   ]
  },
  {
   "cell_type": "code",
   "execution_count": 29,
   "metadata": {},
   "outputs": [],
   "source": [
    "import mod as moduleCustom"
   ]
  },
  {
   "cell_type": "code",
   "execution_count": 30,
   "metadata": {},
   "outputs": [
    {
     "data": {
      "text/plain": [
       "'Hactiv8 Python for Data Science Batch 36'"
      ]
     },
     "execution_count": 30,
     "metadata": {},
     "output_type": "execute_result"
    }
   ],
   "source": [
    "moduleCustom.s"
   ]
  },
  {
   "cell_type": "markdown",
   "metadata": {},
   "source": [
    "# Packages"
   ]
  },
  {
   "cell_type": "code",
   "execution_count": 31,
   "metadata": {},
   "outputs": [],
   "source": [
    "import pkg.mod1, pkg.mod2"
   ]
  },
  {
   "cell_type": "code",
   "execution_count": 32,
   "metadata": {},
   "outputs": [
    {
     "name": "stdout",
     "output_type": "stream",
     "text": [
      "Dari Module 1\n"
     ]
    }
   ],
   "source": [
    "pkg.mod1.module1()"
   ]
  },
  {
   "cell_type": "code",
   "execution_count": 33,
   "metadata": {},
   "outputs": [
    {
     "name": "stdout",
     "output_type": "stream",
     "text": [
      "Dari Module 2\n"
     ]
    }
   ],
   "source": [
    "pkg.mod2.module2()"
   ]
  },
  {
   "cell_type": "code",
   "execution_count": 34,
   "metadata": {},
   "outputs": [],
   "source": [
    "import pkg"
   ]
  },
  {
   "cell_type": "code",
   "execution_count": 35,
   "metadata": {},
   "outputs": [],
   "source": [
    "from pkg import mod1"
   ]
  },
  {
   "cell_type": "code",
   "execution_count": 36,
   "metadata": {},
   "outputs": [],
   "source": [
    "from pkg.mod1 import module1"
   ]
  },
  {
   "cell_type": "markdown",
   "metadata": {},
   "source": [
    "# PIP"
   ]
  },
  {
   "cell_type": "code",
   "execution_count": 37,
   "metadata": {},
   "outputs": [
    {
     "name": "stdout",
     "output_type": "stream",
     "text": [
      "pip 20.2.1 from C:\\Users\\Toshiba\\anaconda3\\envs\\hacktiv8\\lib\\site-packages\\pip (python 3.7)\n",
      "\n"
     ]
    }
   ],
   "source": [
    "!pip --version"
   ]
  },
  {
   "cell_type": "code",
   "execution_count": 39,
   "metadata": {},
   "outputs": [
    {
     "name": "stdout",
     "output_type": "stream",
     "text": [
      " Volume in drive C has no label.\n",
      " Volume Serial Number is BC14-57B0\n",
      "\n",
      " Directory of C:\\Users\\Toshiba\\Documents\\H8_36\n",
      "\n",
      "16/08/2020  14:47    <DIR>          .\n",
      "16/08/2020  14:47    <DIR>          ..\n",
      "16/08/2020  13:49    <DIR>          .ipynb_checkpoints\n",
      "16/08/2020  13:49               140 mod.py\n",
      "16/08/2020  14:43    <DIR>          pkg\n",
      "13/08/2020  15:39            25.567 Sesi1.ipynb\n",
      "13/08/2020  18:45            17.205 Sesi2.ipynb\n",
      "16/08/2020  14:47            17.347 Sesi3.ipynb\n",
      "16/08/2020  13:51    <DIR>          __pycache__\n",
      "               4 File(s)         60.259 bytes\n",
      "               5 Dir(s)   7.970.435.072 bytes free\n"
     ]
    }
   ],
   "source": [
    "!dir"
   ]
  },
  {
   "cell_type": "code",
   "execution_count": 40,
   "metadata": {},
   "outputs": [
    {
     "name": "stdout",
     "output_type": "stream",
     "text": [
      "Collecting folium\n",
      "  Downloading folium-0.11.0-py2.py3-none-any.whl (93 kB)\n",
      "Collecting branca>=0.3.0\n",
      "  Downloading branca-0.4.1-py3-none-any.whl (24 kB)\n",
      "Requirement already satisfied: requests in c:\\users\\toshiba\\anaconda3\\envs\\hacktiv8\\lib\\site-packages (from folium) (2.24.0)\n",
      "Requirement already satisfied: numpy in c:\\users\\toshiba\\anaconda3\\envs\\hacktiv8\\lib\\site-packages (from folium) (1.19.1)\n",
      "Requirement already satisfied: jinja2>=2.9 in c:\\users\\toshiba\\anaconda3\\envs\\hacktiv8\\lib\\site-packages (from folium) (2.11.2)\n",
      "Requirement already satisfied: idna<3,>=2.5 in c:\\users\\toshiba\\anaconda3\\envs\\hacktiv8\\lib\\site-packages (from requests->folium) (2.10)\n",
      "Requirement already satisfied: chardet<4,>=3.0.2 in c:\\users\\toshiba\\anaconda3\\envs\\hacktiv8\\lib\\site-packages (from requests->folium) (3.0.4)\n",
      "Requirement already satisfied: urllib3!=1.25.0,!=1.25.1,<1.26,>=1.21.1 in c:\\users\\toshiba\\anaconda3\\envs\\hacktiv8\\lib\\site-packages (from requests->folium) (1.25.10)\n",
      "Requirement already satisfied: certifi>=2017.4.17 in c:\\users\\toshiba\\anaconda3\\envs\\hacktiv8\\lib\\site-packages (from requests->folium) (2020.6.20)\n",
      "Requirement already satisfied: MarkupSafe>=0.23 in c:\\users\\toshiba\\anaconda3\\envs\\hacktiv8\\lib\\site-packages (from jinja2>=2.9->folium) (1.1.1)\n",
      "Installing collected packages: branca, folium\n",
      "Successfully installed branca-0.4.1 folium-0.11.0\n"
     ]
    }
   ],
   "source": [
    "!pip install folium"
   ]
  },
  {
   "cell_type": "code",
   "execution_count": 41,
   "metadata": {},
   "outputs": [],
   "source": [
    "import requests"
   ]
  },
  {
   "cell_type": "code",
   "execution_count": 42,
   "metadata": {},
   "outputs": [
    {
     "name": "stdout",
     "output_type": "stream",
     "text": [
      "Package               Version\n",
      "--------------------- -------------------\n",
      "argon2-cffi           20.1.0\n",
      "astropy               4.0.1.post1\n",
      "attrs                 19.3.0\n",
      "backcall              0.2.0\n",
      "bleach                3.1.5\n",
      "branca                0.4.1\n",
      "brotlipy              0.7.0\n",
      "certifi               2020.6.20\n",
      "cffi                  1.14.0\n",
      "chardet               3.0.4\n",
      "colorama              0.4.3\n",
      "confuse               1.3.0\n",
      "cryptography          2.9.2\n",
      "cycler                0.10.0\n",
      "decorator             4.4.2\n",
      "defusedxml            0.6.0\n",
      "entrypoints           0.3\n",
      "folium                0.11.0\n",
      "htmlmin               0.1.12\n",
      "idna                  2.10\n",
      "ImageHash             4.1.0\n",
      "importlib-metadata    1.7.0\n",
      "ipykernel             5.3.4\n",
      "ipython               7.17.0\n",
      "ipython-genutils      0.2.0\n",
      "ipywidgets            7.5.1\n",
      "jedi                  0.17.2\n",
      "Jinja2                2.11.2\n",
      "joblib                0.16.0\n",
      "json5                 0.9.5\n",
      "jsonschema            3.2.0\n",
      "jupyter-client        6.1.6\n",
      "jupyter-core          4.6.3\n",
      "jupyterlab            2.1.5\n",
      "jupyterlab-server     1.2.0\n",
      "kiwisolver            1.2.0\n",
      "llvmlite              0.33.0\n",
      "MarkupSafe            1.1.1\n",
      "matplotlib            3.3.0\n",
      "missingno             0.4.2\n",
      "mistune               0.8.4\n",
      "mkl-service           2.3.0\n",
      "mod                   0.2.4\n",
      "nbconvert             5.6.1\n",
      "nbformat              5.0.7\n",
      "networkx              2.4\n",
      "notebook              6.1.1\n",
      "numba                 0.50.1\n",
      "numpy                 1.19.1\n",
      "olefile               0.46\n",
      "packaging             20.4\n",
      "pandas                1.1.0\n",
      "pandas-profiling      2.8.0\n",
      "pandocfilters         1.4.2\n",
      "parso                 0.7.0\n",
      "patsy                 0.5.1\n",
      "phik                  0.10.0\n",
      "pickleshare           0.7.5\n",
      "Pillow                7.2.0\n",
      "pip                   20.2.1\n",
      "prometheus-client     0.8.0\n",
      "prompt-toolkit        3.0.5\n",
      "pycparser             2.20\n",
      "Pygments              2.6.1\n",
      "pyOpenSSL             19.1.0\n",
      "pyparsing             2.4.7\n",
      "pyrsistent            0.16.0\n",
      "PySocks               1.7.1\n",
      "python-dateutil       2.8.1\n",
      "pytz                  2020.1\n",
      "PyWavelets            1.1.1\n",
      "pywin32               227\n",
      "pywinpty              0.5.7\n",
      "PyYAML                5.3.1\n",
      "pyzmq                 19.0.1\n",
      "requests              2.24.0\n",
      "scikit-learn          0.23.2\n",
      "scipy                 1.5.0\n",
      "seaborn               0.10.1\n",
      "Send2Trash            1.5.0\n",
      "setuptools            49.2.1.post20200807\n",
      "six                   1.15.0\n",
      "sklearn               0.0\n",
      "statsmodels           0.11.1\n",
      "tangled-up-in-unicode 0.0.6\n",
      "terminado             0.8.3\n",
      "testpath              0.4.4\n",
      "threadpoolctl         2.1.0\n",
      "tornado               6.0.4\n",
      "tqdm                  4.48.2\n",
      "traitlets             4.3.3\n",
      "urllib3               1.25.10\n",
      "visions               0.4.4\n",
      "wcwidth               0.2.5\n",
      "webencodings          0.5.1\n",
      "wheel                 0.34.2\n",
      "widgetsnbextension    3.5.1\n",
      "win-inet-pton         1.1.0\n",
      "wincertstore          0.2\n",
      "zipp                  3.1.0\n"
     ]
    }
   ],
   "source": [
    "!pip list"
   ]
  },
  {
   "cell_type": "code",
   "execution_count": 43,
   "metadata": {},
   "outputs": [
    {
     "name": "stdout",
     "output_type": "stream",
     "text": [
      "Name: folium\n",
      "Version: 0.11.0\n",
      "Summary: Make beautiful maps with Leaflet.js & Python\n",
      "Home-page: https://github.com/python-visualization/folium\n",
      "Author: Rob Story\n",
      "Author-email: wrobstory@gmail.com\n",
      "License: MIT\n",
      "Location: c:\\users\\toshiba\\anaconda3\\envs\\hacktiv8\\lib\\site-packages\n",
      "Requires: numpy, branca, jinja2, requests\n",
      "Required-by: \n"
     ]
    }
   ],
   "source": [
    "!pip show folium"
   ]
  },
  {
   "cell_type": "code",
   "execution_count": 44,
   "metadata": {},
   "outputs": [],
   "source": [
    "!pip freeze > requirements.txt"
   ]
  },
  {
   "cell_type": "code",
   "execution_count": 45,
   "metadata": {},
   "outputs": [],
   "source": [
    "# pip install -r requirements.txt"
   ]
  },
  {
   "cell_type": "code",
   "execution_count": 1,
   "metadata": {},
   "outputs": [
    {
     "name": "stdout",
     "output_type": "stream",
     "text": [
      "openerp-web (7.0.406)                   - Web\n",
      "ebs-web (0.0.1)                         - A web framwork to create web application\n",
      "web-fragments (0.3.2)                   - Web fragments\n",
      "dragonfly-web (1.0)                     - A web framework.\n",
      "web-crawler (0.0.4)                     - Web crawler\n",
      "devpi-web (4.0.5)                       - devpi-web: a web view for devpi-server\n",
      "pdfebc-web (0.1.2)                      - Web interface for pdfebc.\n",
      "EarthReader-Web (0.3.0)                 - Earth Reader for Web\n",
      "victims-web (2.2.1)                     - Victims Web Service\n",
      "kegmeter-web (0.99.5)                   - Kegmeter web server\n",
      "circus-web (1.0.0)                      - Circus Web Dashboard\n",
      "web-extractor (0.1.3)                   - WEB Content Extractor\n",
      "grapher-web (1.1.3)                     - Grapher Web UI\n",
      "voltron-web (0.1.1)                     - Voltron web interface\n",
      "autotweet-web (0.1.0)                   - web instance for autotweet\n",
      "testwizard.commands-web (3.4.2)         - Testwizard Web commands\n",
      "wc-web (1.0.0)                          - WidgetCo web: This is a fake web module used to teach namespace packages .\n",
      "larpix-web (0.1.0rc2)                   - LArPix DAQ Web Interface\n",
      "six-web (1.0.1)                         - Micro python web framework\n",
      "cosmicpi-web (0.2.1)                    - Web frontend for Cosmic Pi\n",
      "mailman-web (0.0.1)                     - Mailman 3 Web interface.\n",
      "web-wrapper (0.4.2)                     - Web wrapper for Selenium/requests\n",
      "uvpool-web (0.2.0)                      - A sanic based web framework\n",
      "volcano-web (1.5.5)                     - Web server satellite for Volcano\n",
      "reahl-web (4.0.5)                       - The core Reahl web framework\n",
      "web-title (0.1)                         - Find web site title\n",
      "enaml-web (0.9.1)                       - Web component toolkit for Enaml\n",
      "PyForms-Web (4.2.0)                     - Pyforms Web is Python 3 framework to create single-page web applications.\n",
      "polar-web (0.0.2)                       - Python wrapper for Polar Web API.\n",
      "Web-Templates (0.0.0a0.post3)           - Standardized templates for Python's web frameworks\n",
      "web-playground (0.0.1)                  - Demo web application for testing purposes\n",
      "web-mage (0.2.0)                        - Small package that optimizes images for the web.\n",
      "mordred-web (0.3.4)                     - molecular descriptor calculator web UI\n",
      "sqlite-web (0.3.7)                      - Web-based SQLite database browser.\n",
      "cppcloud-web (1.0.6)                    - CppCloud python3 Web and RestApi System\n",
      "dnspod-web (3.0.0)                      - DNSPod API Python Web Example\n",
      "web-trawler (0.2.0)                     - Trawl web pages for files to download\n",
      "Hurricane-web (0.1a1)                   - a simple web framework based on Tornado.\n",
      "rsrc-web (0.0.3)                        - `rsrc` plugin for working with web resources.\n",
      "pyny-web (1.0.7)                        - Tiny Python3 based web server.\n",
      "pyqmix-web (2019.1)                     - Remote-control interface and web-app for pyqmix.\n",
      "inhouse-web (0.0.4)                     - Web based time recording and management application\n",
      "rtsf-web (1.2.3)                        - only for web ui test, base on rtsf\n",
      "whatsapp-web (0.0.1)                    - A Python library to automate easily whatsapp web\n",
      "sidefx-web (0.6.0)                      - Simple tool for using the SideFX Web API\n",
      "whirlwind-web (0.9.0)                   - Wrapper around the tornado web server library\n",
      "faker-web (0.3.1)                       - Web-related Provider for the Faker Python package.\n",
      "web-poet (0.1.0)                        - Scrapinghub's Page Object pattern for web scraping\n",
      "web-pdb (1.5.3)                         - Web interface for Python's built-in PDB debugger\n",
      "trips-web (1.0.11)                      - Command-line interface for the TRIPS web parser\n",
      "duo-web (1.3.0)                         - Duo Web SDK for two-factor authentication\n",
      "web-mother (0.2.7)                      - All like resource manage business can from web-mother. Web-mother include member manage, organization manage, and catalog manage. Especially web-mother support authorization management.\n",
      "toga-web (0.0.0)                        - A common backend for the Toga widget toolkit on web platforms.\n",
      "web-downloader (0.0.8)                  - A Python package using Selenium to download web content\n",
      "web-office (1.0.0)                      - View office documents in browser using web services.\n",
      "click-web (0.7.1)                       - Serve click scripts over the web with minimal effort.\n",
      "ws-web-aiohttp (0.1b19)                 - web server for web-sheets project\n",
      "typhoon-web (1.0.4)                     - A wrapper around the Tornado web framework that supports logs with traceId.\n",
      "statick-web (0.0.2)                     - Statick analysis plugins for Web (css, html, js) files.\n",
      "opensubmit-web (0.7.17)                 - A web application for managing student assignment solutions in a university environment.\n",
      "openerp-web-calendar (7.0.406)          - Web Calendar\n",
      "openerp-web-shortcuts (7.0.406)         - Web Shortcuts\n",
      "openerp-web-gantt (7.0.406)             - Web Gantt\n",
      "dsmc-web (0.0.1)                        - [Dont Steal My Code : Console & web code encrypter & decrypter]\n",
      "evasion-web (1.1.1)                     - Pylons based web application framework on which the director admin is based.\n",
      "tiny-web (0.0.4)                        - WSGI-compatible framework to learn how to create tiny web applications\n",
      "fooster-web (0.3rc9)                    - a small, process-pooled web server utilizing the built-in Python socketserver\n",
      "web-walker (3.1.5)                      - your can crawl web pages with litte settings. based on scrapy. \n",
      "pg-chameleon-web (0.1.dev0)             - Web interface for pg_chameleon\n",
      "jupyter-web-report (0.1.5)              - jupyter web report\n",
      "OpenFisca-Web-API (8.2.0)               - Web API for OpenFisca\n",
      "galaxy-web-framework (20.5.0)           - Galaxy Web Framework\n",
      "galaxy-web-apps (20.5.0)                - Galaxy Web Apps\n",
      "bayrell-runtime-web (0.0.1)             - Bayrell Runtime Web\n",
      "Web-Scraping-Utility (1.0.0)            - Web Scraping Utility\n",
      "django-web-app (0.0.8)                  - a django web app\n",
      "openerp-web-diagram (7.0.406)           - OpenERP Web Diagram\n",
      "openerp-web-api (7.0.406)               - OpenERP Web API\n",
      "emf-web-crawler (0.1.1)                 - Basic web crawler\n",
      "web-terminal (0.2.1)                    - Web_Terminal is a server that gives an easy web-based interface to a terminal window, with plenty of nice features\n",
      "amis-web-requester (0.4)                - A web requester utility package\n",
      "web-rich-object (0.3.1)                 - Web rich object handler\n",
      "django-web-utils (0.4.3)                - Django helpers for working with the web.\n",
      "eilat-web-browser (1.5.5)               - QtWebKit based web browser\n",
      "galaxy-web-stack (20.5.0)               - Galaxy Web Strack Abstraction\n",
      "extensiveautomation-plugin-web (1.2.0)  - WEB plugin for extensiveautomation server\n",
      "joox-web-crawler (0.0.9)                - a simple joox web crawler\n",
      "web-lib (100.99.99)                     - A package for analysing download counts on random packages, please remove if you've mistakenly installed this package: web-lib\n",
      "web-framework (100.99.99)               - A package for analysing download counts on random packages, please remove if you've mistakenly installed this package: web-framework\n",
      "web-cli (100.99.99)                     - A package for analysing download counts on random packages, please remove if you've mistakenly installed this package: web-cli\n",
      "zusha-web-app (0.0.1)                   - Web server for Zusha mobile app.\n",
      "django-passaporte-web (1.2.8)           - Django client app for Passaporte Web.\n",
      "trytond-web-user (5.6.0)                - Tryton module to manage Web users\n",
      "web-payments-paypal (1.0.2)             - Paypal plugin for web-payments-connector\n",
      "sqlite-web-jmalabanan (0.0.3)           - Web-based SQLite database browser.\n",
      "mongo-mail-web (0.1.1)                  - Web UI for Mongo Mail Server\n",
      "web-payments-connector (3.0.1)          - Universal payment handling for Web Frameworks\n",
      "web-payments-paydirekt (1.0.2)          - Paydirekt plugin for web-payments-connector\n",
      "django-web-exceptions (0.1.4)           - Throwing web exceptions like in AioHTTP\n",
      "python-passaporte-web (0.2.4)           - Python client app for Passaporte Web.\n"
     ]
    }
   ],
   "source": [
    "!pip search web"
   ]
  },
  {
   "cell_type": "code",
   "execution_count": null,
   "metadata": {},
   "outputs": [],
   "source": []
  }
 ],
 "metadata": {
  "kernelspec": {
   "display_name": "Python 3",
   "language": "python",
   "name": "python3"
  },
  "language_info": {
   "codemirror_mode": {
    "name": "ipython",
    "version": 3
   },
   "file_extension": ".py",
   "mimetype": "text/x-python",
   "name": "python",
   "nbconvert_exporter": "python",
   "pygments_lexer": "ipython3",
   "version": "3.7.7"
  }
 },
 "nbformat": 4,
 "nbformat_minor": 4
}
